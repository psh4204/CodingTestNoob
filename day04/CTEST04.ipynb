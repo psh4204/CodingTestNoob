{
  "nbformat": 4,
  "nbformat_minor": 0,
  "metadata": {
    "colab": {
      "name": "CTEST04.ipynb",
      "provenance": [],
      "collapsed_sections": []
    },
    "kernelspec": {
      "name": "python3",
      "display_name": "Python 3"
    },
    "language_info": {
      "name": "python"
    }
  },
  "cells": [
    {
      "cell_type": "markdown",
      "metadata": {
        "id": "b0nl2022E7iw"
      },
      "source": [
        "# DFS/BFS\n",
        "* 그래프를 탐색하기 위한 대표적인 두가지 알고리즘\n",
        "## 자료구조 기초\n",
        "* 탐색 : 데이터 중에서 원하는 데이터를 찾는 과정\n",
        "  * 탐색(검색)알고리즘 2톱\n",
        "    * DFS, BFS\n",
        "* 자료구조 : 데이터를 표현하고 관리하고 처리하기 위한 구조\n",
        "  * 삽입(PUSH) : 데이터를 삽입한다\n",
        "  * 삭제(POP) : 데이터를 삭제한다\n",
        "* 오버플로 : 특정한 자료구조가 수용할 수 있는 데이터 크기를 이미 가득찬 상태에 삽인연산을 수행할 시 나옴\n",
        "* 언더플로 : 데이터가 전혀 들어가있지 않을때 삭제연산을 수행할 시 나옴\n",
        "* 자료구조 기초 : 스택, 큐\n",
        "* 재귀함수\n"
      ]
    },
    {
      "cell_type": "markdown",
      "metadata": {
        "id": "CNoZifRjHcv-"
      },
      "source": [
        "## 스택 \n",
        "* 차례로 쌓고, 차례로 뺀다\n",
        "* 선입후출 구조, 후입선출구조\n",
        "\n"
      ]
    },
    {
      "cell_type": "code",
      "metadata": {
        "colab": {
          "base_uri": "https://localhost:8080/"
        },
        "id": "qapUAwPPxhru",
        "outputId": "597ede88-cf51-4263-9d57-748308c0ead5"
      },
      "source": [
        "stack = []\n",
        "\n",
        "stack.append(5)\n",
        "stack.append(2)\n",
        "stack.append(3)\n",
        "stack.append(7)\n",
        "stack.pop()\n",
        "stack.append(1)\n",
        "stack.pop()\n",
        "\n",
        "print(stack)\n",
        "print(stack[::-1]) # 최상단 부터 출력"
      ],
      "execution_count": null,
      "outputs": [
        {
          "output_type": "stream",
          "name": "stdout",
          "text": [
            "[5, 2, 3]\n",
            "[3, 2, 5]\n"
          ]
        }
      ]
    },
    {
      "cell_type": "markdown",
      "metadata": {
        "id": "vaQGjsT7xgxx"
      },
      "source": [
        "## 큐\n",
        "* 당구공\n",
        "* 선입선출, 후입후출\n",
        "\n",
        "### 파이썬에서는 collections 에 deque(덱) 라이브러리 를 사용할 수 있다.(양방향 큐)"
      ]
    },
    {
      "cell_type": "code",
      "metadata": {
        "id": "lvam-_jqE5xt",
        "colab": {
          "base_uri": "https://localhost:8080/"
        },
        "outputId": "50aa040b-ecbe-4a01-d790-5ca1e4e4282f"
      },
      "source": [
        "from collections import deque\n",
        "\n",
        "# 큐(Queue) 구현을 위해 deque 라이브러리 사용\n",
        "queue = deque()\n",
        "\n",
        "queue.append(5)\n",
        "queue.append(3)\n",
        "queue.append(2)\n",
        "queue.popleft()\n",
        "queue.append(8)\n",
        "queue.append(9)\n",
        "\n",
        "print(queue)\n",
        "queue.reverse() # 역순\n",
        "print(queue)"
      ],
      "execution_count": null,
      "outputs": [
        {
          "output_type": "stream",
          "name": "stdout",
          "text": [
            "deque([3, 2, 8, 9])\n",
            "deque([9, 8, 2, 3])\n"
          ]
        }
      ]
    },
    {
      "cell_type": "markdown",
      "metadata": {
        "id": "EgcE3dNzzQQo"
      },
      "source": [
        "## 재귀 함수\n",
        "* 자신을 다시 호출하는 함수\n",
        "* DFS, BFS 구현시 필수적인 함수\n",
        "* 종료조건을 명시해줘야 된다.\n",
        "\n",
        "* 재귀함수는 수학에서 점화식을 그대로 옮겨놓은 형태로 짤수 있기때문에 **간결한** 코드를 짤 수 있다."
      ]
    },
    {
      "cell_type": "code",
      "metadata": {
        "colab": {
          "base_uri": "https://localhost:8080/"
        },
        "id": "nb0vYmWzzwII",
        "outputId": "3ca5d351-d846-49ae-e8bc-4b00885fe162"
      },
      "source": [
        "# math를 사용하지 않고 팩토리얼 구현\n",
        "\n",
        "# 반복적으로 구현한 n!\n",
        "def factorial_iteragive(n):\n",
        "  result = 1\n",
        "  # 1 부터  n 까지의 수를 차례대로 곱하기\n",
        "  for i in range(1, n+1):\n",
        "    result *= i\n",
        "  \n",
        "  return result\n",
        "\n",
        "# 재귀적으로 구현한 n!\n",
        "def factorial_recursive(n):\n",
        "  if n <= 1 :\n",
        "    return 1\n",
        "  \n",
        "  return n* factorial_recursive(n-1)\n",
        "\n",
        "print('반복적 구현 : ',factorial_iteragive(5))\n",
        "print('재귀적 구현 : ',factorial_recursive(5))"
      ],
      "execution_count": null,
      "outputs": [
        {
          "output_type": "stream",
          "name": "stdout",
          "text": [
            "반복적 구현 :  120\n",
            "재귀적 구현 :  120\n"
          ]
        }
      ]
    },
    {
      "cell_type": "markdown",
      "metadata": {
        "id": "gnIivqG96pHr"
      },
      "source": [
        "# 탐색알고리즘 DFS/BFS\n",
        "* DFS : Depth-First-Search 깊이 우선 탐색\n",
        "* BFS : Breadth First Search 너비 우선 탐색"
      ]
    },
    {
      "cell_type": "markdown",
      "metadata": {
        "id": "TBRAoIku7dgb"
      },
      "source": [
        "## DFS\n",
        "* 깊이우선 탐색\n",
        "* 인접행렬 : 2차원 배열로 그래프의 연결관계를 표현하는 방식\n",
        "  * 넣을수 없는 값은 9999999.. 와같은 무한대수로 초기화하는 경우가 많다\n",
        "  * INF로 표현\n",
        "* 인접리스트 : 리스트로 그래프 연결관계를 표현하는 방식\n",
        "\n"
      ]
    },
    {
      "cell_type": "code",
      "metadata": {
        "colab": {
          "base_uri": "https://localhost:8080/"
        },
        "id": "VJuy59DD6Ou9",
        "outputId": "d888ae5d-6b31-4fc4-c0a0-d1e5bca30668"
      },
      "source": [
        "# 인접행렬\n",
        "INF = 9999999999 # 무한의 비용 선언\n",
        "\n",
        "# 2차원 리스트를 이용해 인접 행렬 표현\n",
        "graph =[\n",
        "        [0,7,5],\n",
        "        [7,0,INF],\n",
        "        [5,INF,0]\n",
        "]\n",
        "\n",
        "print(graph)"
      ],
      "execution_count": null,
      "outputs": [
        {
          "output_type": "stream",
          "name": "stdout",
          "text": [
            "[[0, 7, 5], [7, 0, 9999999999], [5, 9999999999, 0]]\n"
          ]
        }
      ]
    },
    {
      "cell_type": "markdown",
      "metadata": {
        "id": "wVV6kdKPEeKe"
      },
      "source": [
        "* 인접 리스트 방식에서는 모든노드에 연결된 노드에 대한 정보를 차례대로 연결하여 저장\n",
        "* 연결리스트(링크드리스트) 는 C++, Java 와 같은 프로그래밍언어에서 별도로 제공\n",
        "  * 파이썬에서는 append()메소드 제공을 하여 정통적인 프로그래밍언어의 연결리스트 기능 모두 제공한다.\n",
        "  * 파이썬에선 인접리스트를 표현할 때 2차원 리스트를 이용하면 된다."
      ]
    },
    {
      "cell_type": "code",
      "metadata": {
        "colab": {
          "base_uri": "https://localhost:8080/"
        },
        "id": "zaVV0KhT6owK",
        "outputId": "4c606e65-62d7-42b9-fe3b-4f23a2188350"
      },
      "source": [
        "# 행(Row)이 3개인 2차원 리스트 표현\n",
        "graph = [[] for _ in range(3)]\n",
        "\n",
        "# 노드 0에 연결된 노드 정보 저장(노드, 거리)\n",
        "graph[0].append((1,7))\n",
        "graph[0].append((2,5))\n",
        "\n",
        "# 노드 1에 연결된 노드 정보 저장(노드, 거리)\n",
        "graph[1].append((0,7))\n",
        "\n",
        "# 노드 2에 연결된 노드 정보 저장(노드, 거리)\n",
        "graph[2].append((0,5))\n",
        "\n",
        "print(graph)"
      ],
      "execution_count": null,
      "outputs": [
        {
          "output_type": "stream",
          "name": "stdout",
          "text": [
            "[[(1, 7), (2, 5)], [(0, 7)], [(0, 5)]]\n"
          ]
        }
      ]
    },
    {
      "cell_type": "markdown",
      "metadata": {
        "id": "aM3fCVHtF0Fn"
      },
      "source": [
        "* 메모리 속도측면에서 인접행렬 보다 인접리스트가 더많은 데이터를 관리하기에 좋다.\n",
        "  * 연결된 정보만 저장하는 인접리스트\n",
        "  * 특정한 두노드가 연결되어 있는지 얻는 속도는 느리다.(하나씩 다 확인해봐야해서)\n",
        "* 특정한 노드와 연결된 모든 인접노드를 순회 : 인접리스트 방식\n"
      ]
    },
    {
      "cell_type": "markdown",
      "metadata": {
        "id": "RW6KRaFDHKkG"
      },
      "source": [
        "# DFS 구현\n"
      ]
    }
  ]
}
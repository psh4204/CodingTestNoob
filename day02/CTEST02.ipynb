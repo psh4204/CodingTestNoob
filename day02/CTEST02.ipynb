{
  "nbformat": 4,
  "nbformat_minor": 0,
  "metadata": {
    "colab": {
      "name": "CTEST02.ipynb",
      "provenance": [],
      "collapsed_sections": [
        "A2tyEZczMUQe"
      ]
    },
    "kernelspec": {
      "name": "python3",
      "display_name": "Python 3"
    },
    "language_info": {
      "name": "python"
    }
  },
  "cells": [
    {
      "cell_type": "markdown",
      "metadata": {
        "id": "A2tyEZczMUQe"
      },
      "source": [
        "---\n",
        "# 그리디\n",
        "* 당장 좋은 것만 선택하는 그리디"
      ]
    },
    {
      "cell_type": "code",
      "metadata": {
        "colab": {
          "base_uri": "https://localhost:8080/"
        },
        "id": "4tDGoJmiq7VA",
        "outputId": "101614fe-e3f2-4373-e94b-2982229cf307"
      },
      "source": [
        ""
      ],
      "execution_count": null,
      "outputs": [
        {
          "output_type": "stream",
          "name": "stdout",
          "text": [
            "HellO/world/sihwan/"
          ]
        }
      ]
    },
    {
      "cell_type": "markdown",
      "metadata": {
        "id": "7Cj9-gbfMaqo"
      },
      "source": [
        "## 큰수의 법칙\n",
        "* 주어진 숫자들을 M번 더하여 가장큰 수를 만드는 법칙\n",
        "* K번 연속으로 더해질 수 없음.\n",
        "* 예) 1,2,3,4,5 -> m = 7, k = 3 -> 5+5+5+4+5+5+5"
      ]
    },
    {
      "cell_type": "code",
      "metadata": {
        "colab": {
          "base_uri": "https://localhost:8080/"
        },
        "id": "3FbS2n32MSb5",
        "outputId": "77b67f15-21ac-446c-c90b-a43a2bc4aef2"
      },
      "source": [
        "\"\"\" \n",
        "배열의 크기 N, 숫자가 더해지는 횟수 M, 그리고 K가 주어질 때\n",
        "동빈이의 큰수의 법칙 결과를 출력하시오\n",
        "\"\"\"\n",
        "# N,M,K 공백으로 구분하여 받기\n",
        "n, m, k = map(int,input().split())\n",
        "\n",
        "# N개의 수 공백 구분하여 받기\n",
        "data = list(map(int,input().split()))\n",
        "\n",
        "# 입력 값 정렬\n",
        "data.sort()\n",
        "\n",
        "# 가장 큰수\n",
        "first = data[n-1]\n",
        "# 두번째 큰수\n",
        "second = data[n-2]\n",
        "\n",
        "# M번 동안 연속K번 더하여 가장 큰 수 받기\n",
        "result = 0\n",
        "while True:\n",
        "    for i in range(k):\n",
        "        if (m==0):\n",
        "            break\n",
        "        result += first\n",
        "        m-=1\n",
        "    if (m==0):\n",
        "        break\n",
        "    result += second\n",
        "    m-=1\n",
        "\n",
        "print(result) # 최종 답안 출력"
      ],
      "execution_count": null,
      "outputs": [
        {
          "output_type": "stream",
          "name": "stdout",
          "text": [
            "3 6 3\n",
            "1 2 3 4\n",
            "17\n"
          ]
        }
      ]
    },
    {
      "cell_type": "code",
      "metadata": {
        "colab": {
          "base_uri": "https://localhost:8080/"
        },
        "id": "KlEoYyHTUUhD",
        "outputId": "a08e2711-d69e-403e-bd12-72e936aee6b2"
      },
      "source": [
        "# M이 무수히 많아지면 무겁고 느려진다.\n",
        "# 수학을 통해 해결해보자.\n",
        "# ( 가장 큰수 * k ) * 가장 큰수 반복횟수\n",
        "# 두번째 큰수 * 두번째반복횟수\n",
        "# 가장큰수 반복횟수 = (( M // (K+1) ) * K )+ (M % (K+1))\n",
        "# 두번째큰수 반복횟수 = ( M // (K+1))\n",
        "\n",
        "# n개, m번, k까지\n",
        "n, m, k = map(int,input().split())\n",
        "\n",
        "# 받을 숫자 리스트\n",
        "data = list(map(int,input().split()))\n",
        "\n",
        "# 반복횟수\n",
        "second_count = (m // (k+1))\n",
        "first_count = (second_count * k) + (m%(k+1))\n",
        "\n",
        "data.sort() # 리스트 정렬\n",
        "\n",
        "# 가장 큰 값, 두번째 큰 값\n",
        "first_data = data[n-1]\n",
        "second_data = data[n-2]\n",
        "\n",
        "# 결과 도출\n",
        "result = first_data * first_count\n",
        "result += second_data * second_count\n",
        "\n",
        "print(result)"
      ],
      "execution_count": null,
      "outputs": [
        {
          "output_type": "stream",
          "name": "stdout",
          "text": [
            "3 6 3\n",
            "1 2 3 4\n",
            "17\n"
          ]
        }
      ]
    },
    {
      "cell_type": "markdown",
      "metadata": {
        "id": "fxVdkvVe1BwI"
      },
      "source": [
        "## 숫자 카드 게임\n",
        "* 여러 숫자중 가장 높은 숫자를 뽑아야하는 게임\n",
        "* N * M 형태로 나열되어있음\n",
        "* 행 중에서 가장낮은 숫자 중에서 가장 높은숫자를 고르는 것\n",
        "\n",
        "\n"
      ]
    },
    {
      "cell_type": "code",
      "metadata": {
        "colab": {
          "base_uri": "https://localhost:8080/"
        },
        "id": "aYhsQK-P-4-B",
        "outputId": "000f4c9e-fa4e-438f-f38a-3fc06a257b47"
      },
      "source": [
        "# N, M 입력\n",
        "n, m = map(int, input().split())\n",
        "\n",
        "result = 0\n",
        "# 리스트 입력으로 값 넣기\n",
        "for i in range(m):\n",
        "  data = list(map(int,input().split()))\n",
        "  # 한 줄마다 최소값 구하기 \n",
        "  min_value = min(data)\n",
        "  # 그 중에서 가장 큰 결과값 확인\n",
        "  result = max(result, min_value)\n",
        "\n",
        "# 결과값 출력\n",
        "print(result)"
      ],
      "execution_count": null,
      "outputs": [
        {
          "output_type": "stream",
          "name": "stdout",
          "text": [
            "1 2\n",
            "3 4\n",
            "3 4\n",
            "3\n"
          ]
        }
      ]
    },
    {
      "cell_type": "markdown",
      "metadata": {
        "id": "NMjhg_dIFRES"
      },
      "source": [
        "## 1이 될때 까지\n",
        "* 어떠한 수 n이 1이 될때까지 다음 두 과정 중 하나를 반복적으로 선택하려한다.\n",
        "  * 1. N에서 1을 뺀다\n",
        "  * 2. N에서 k를 나눈다.\n",
        "* 1,2번 과정 수행횟수 중에서 최소 횟수를 구하는 프로그램 만들기"
      ]
    },
    {
      "cell_type": "code",
      "metadata": {
        "colab": {
          "base_uri": "https://localhost:8080/"
        },
        "id": "TV3Lio84GLHS",
        "outputId": "3596313b-4ba9-4663-a322-a3388b858db3"
      },
      "source": [
        "# N, K 받기\n",
        "n, k = map(int, input().split())\n",
        "\n",
        "# 2번과정 먼저하고, 나머지를 1번과정으로 하기\n",
        "result = 0\n",
        "\n",
        "while n != 0:\n",
        "  if n % k == 0:\n",
        "    n = int(n / k)\n",
        "  else:\n",
        "    n -=1\n",
        "  result += 1\n",
        "  # print(n)\n",
        "\n",
        "result -=1 # 마지막 계산은 횟수에서 제외\n",
        "print(result)"
      ],
      "execution_count": null,
      "outputs": [
        {
          "output_type": "stream",
          "name": "stdout",
          "text": [
            "25 3\n",
            "6\n"
          ]
        }
      ]
    },
    {
      "cell_type": "markdown",
      "metadata": {
        "id": "fiuTZfhML-47"
      },
      "source": [
        "# 구현\n",
        "* 피지컬로 승부하기\n",
        "* 알고리즘은 설게했는데, 구현이 먼저 풀수 있는 문제가 없을때 푸는게 좋다.\n",
        "  * 쉬운 문제이지만 노가다 구현인건 먼저 풀지 말라 이소리인듯.\n",
        "* 완전탐색 : 모든 경우의 수를 주저없이 다 계산하는 해결방법\n",
        "* 시뮬레이션 : 한단계씩 차례대로 직접 수행해야하는 문제 유형\n",
        "\n",
        "## 메모리 제약사항 확인\n",
        "\n",
        "### 숫자\n",
        "* 보통 정수형은 int형(4바이트),  더큰수는 long long(8바이트)\n",
        "* 더큰수는 Bitinteger(클래스) : 보통 안쓴다.\n",
        "\n",
        "### 파이썬 리스트 메모리 용량\n",
        "* 1,000 개 : 4kb\n",
        "* 1,000,000개 : 4mb\n",
        "* 1,000,000,000개 : 40mb\n",
        "\n",
        "* 파이썬은 동작이 매우 느리다.\n",
        "\n",
        "### 구현문제에 접근하는 방법\n",
        "* 문제길이가 길 뿐이지, 비교적 쉬운문제들이다.\n",
        "* 파이썬이 구현문제에서는 강한 편이다.\n",
        "* Pypy3 : python3 문법 그대로 쓰이는 프로그래밍 언어. 비교적 빠른 프로그램 실행시간을 가짐\n",
        "  * Pypy3를 지원한다고 하면 시험을 Pypy3로 치자.\n",
        "\n"
      ]
    },
    {
      "cell_type": "markdown",
      "metadata": {
        "id": "S3dqaCNrWvfm"
      },
      "source": [
        "## 상하좌우\n",
        "* 여행가 문제 : L R U D 를 통해 최종적으로 도착할 좌표 출력하기\n",
        "  * 첫번째 줄 입력란은 공간의 크기 N\n",
        "  * 둘째 줄 입력란엔 A가 이동할 계획서 내용이 주어진다.\n",
        "  * 출력 조건 : A가 이동할 최종 목표지전 X,Y를 공백으로 구분하여 출력한다.\n"
      ]
    },
    {
      "cell_type": "code",
      "metadata": {
        "id": "tWuZsGyVXpBN"
      },
      "source": [
        ""
      ],
      "execution_count": null,
      "outputs": []
    }
  ]
}
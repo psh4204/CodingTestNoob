{
  "nbformat": 4,
  "nbformat_minor": 0,
  "metadata": {
    "colab": {
      "name": "CTEST01.ipynb",
      "provenance": [],
      "collapsed_sections": [
        "ME3dOYVgi1Z5",
        "1lFk7n8pnvb9",
        "3f6HGrd6tMSz",
        "6uRU5_xoz1A9",
        "9xDi0jeD4raJ",
        "LYkBp1vZ7YA3",
        "PmnUODGd_FEk",
        "qAvDovS9KDBL",
        "RUeNk7eeLxOI",
        "cEbvuFrEqefH",
        "ZkY-1siM2Y0Y",
        "w3fgXyKZ7zJZ",
        "LRYCgvU4-upy"
      ]
    },
    "kernelspec": {
      "name": "python3",
      "display_name": "Python 3"
    },
    "language_info": {
      "name": "python"
    }
  },
  "cells": [
    {
      "cell_type": "markdown",
      "metadata": {
        "id": "ME3dOYVgi1Z5"
      },
      "source": [
        "# 그리디\n",
        "* 탐욕 알고리즘\n",
        "* 가장 좋은 것을 먼저 고른다."
      ]
    },
    {
      "cell_type": "code",
      "metadata": {
        "colab": {
          "base_uri": "https://localhost:8080/"
        },
        "id": "7MVOsGRkiygT",
        "outputId": "fdced30f-141c-456c-9230-528edf228098"
      },
      "source": [
        "n = 1260\n",
        "count = 0\n",
        "\n",
        "# 큰 단위의 화폐부터 차례로 확인\n",
        "coin_types = [500, 100, 50, 10]\n",
        "\n",
        "for coin in coin_types :\n",
        "  count += n // coin # 해당 화폐로 거슬러 줄 수 있는 동선의 개수 세기\n",
        "  # // 연산자 : 나눈후 정수만 return\n",
        "  n %= coin\n",
        "\n",
        "print(count)"
      ],
      "execution_count": null,
      "outputs": [
        {
          "output_type": "stream",
          "name": "stdout",
          "text": [
            "6\n"
          ]
        }
      ]
    },
    {
      "cell_type": "code",
      "metadata": {
        "colab": {
          "base_uri": "https://localhost:8080/"
        },
        "id": "7US-WlX-j8mb",
        "outputId": "16d5ab76-4901-4ee1-92c2-d5533e001d9b"
      },
      "source": [
        "n = 1530\n",
        "count = 0\n",
        "\n",
        "coin_types = [500, 100, 50, 10]\n",
        "\n",
        "for coin in coin_types:\n",
        "  count += n // coin\n",
        "  n %= coin\n",
        "\n",
        "print(count)"
      ],
      "execution_count": null,
      "outputs": [
        {
          "output_type": "stream",
          "name": "stdout",
          "text": [
            "6\n"
          ]
        }
      ]
    },
    {
      "cell_type": "markdown",
      "metadata": {
        "id": "GpVN5L_InQ03"
      },
      "source": [
        "---\n",
        "# 파이썬 부족한 문법 노트"
      ]
    },
    {
      "cell_type": "markdown",
      "metadata": {
        "id": "1lFk7n8pnvb9"
      },
      "source": [
        "# 리스트 컴프리헨션\n",
        "  * [ '넣을 변수' '루프' '조건문' ]\n",
        "  * 2차원 리스트 선언시 필수다. 정확하고 손쉽기 때문"
      ]
    },
    {
      "cell_type": "code",
      "metadata": {
        "colab": {
          "base_uri": "https://localhost:8080/"
        },
        "id": "5qy7vct7nUio",
        "outputId": "27e66e1f-a1d5-421d-ecbc-efbad2050f86"
      },
      "source": [
        "# 0부터 19까지 수 중에서 홀수만 포함하는 리스트\n",
        "## [ '넣을 변수' '루프' ]\n",
        "array = [i for i in range(20) if i % 2 == 1]\n",
        "\n",
        "print(array)"
      ],
      "execution_count": null,
      "outputs": [
        {
          "output_type": "stream",
          "name": "stdout",
          "text": [
            "[1, 3, 5, 7, 9, 11, 13, 15, 17, 19]\n"
          ]
        }
      ]
    },
    {
      "cell_type": "code",
      "metadata": {
        "colab": {
          "base_uri": "https://localhost:8080/"
        },
        "id": "GYy_D9MQnqud",
        "outputId": "aab0e149-cc2f-4a8c-fbd4-96aac7613aa6"
      },
      "source": [
        "# 2차원 리스트 선언시 필수다.\n",
        "x = 3\n",
        "y = 4\n",
        "array2D = [[0] * x for _ in range(y)]\n",
        "\n",
        "print(array2D)"
      ],
      "execution_count": null,
      "outputs": [
        {
          "output_type": "stream",
          "name": "stdout",
          "text": [
            "[[0, 0, 0], [0, 0, 0], [0, 0, 0], [0, 0, 0]]\n"
          ]
        }
      ]
    },
    {
      "cell_type": "markdown",
      "metadata": {
        "id": "42NbBVbvokQk"
      },
      "source": [
        "* 리스트 관련 기타 메소드"
      ]
    },
    {
      "cell_type": "code",
      "metadata": {
        "colab": {
          "base_uri": "https://localhost:8080/"
        },
        "id": "GkrD83mXoi_V",
        "outputId": "709e2b93-565e-4c1b-e561-7e7f3fdfc384"
      },
      "source": [
        "a = [1, 4, 3, 5, 1, 2, 6]\n",
        "print(\"기본리스트\\t\\t:\", a)\n",
        "\n",
        "# 리스트에 원소 삽입\n",
        "a.append(2)\n",
        "print(\"삽입\\t\\t\\t:\", a)\n",
        "\n",
        "# 오름차순 정렬\n",
        "a.sort()\n",
        "print(\"오름차순 정렬\\t\\t:\", a)\n",
        "\n",
        "# 내림차순 정렬\n",
        "a.sort(reverse = True)\n",
        "print(\"내림차순 정렬\\t\\t:\", a)\n",
        "\n",
        "# 리스트 원소 뒤집기\n",
        "a.reverse()\n",
        "print(\"원소 뒤집기\\t\\t:\", a)\n",
        "\n",
        "# 특정 인덱스에 데이터 추가\n",
        "a.insert(2,3)\n",
        "print(\"인덱스 2에 3추가\\t:\",a)\n",
        "\n",
        "# 특정 값이 데이터 개수 세기\n",
        "print(\"값이 3인 데이터 개수\\t:\", a.count(3))\n",
        "\n",
        "# 특정 값 데이터 삭제 , 단 한번 실행됨\n",
        "a.remove(1)\n",
        "print(\"값이 1인 데이터 삭제\\t:\", a)"
      ],
      "execution_count": null,
      "outputs": [
        {
          "output_type": "stream",
          "name": "stdout",
          "text": [
            "기본리스트\t\t: [1, 4, 3, 5, 1, 2, 6]\n",
            "삽입\t\t\t: [1, 4, 3, 5, 1, 2, 6, 2]\n",
            "오름차순 정렬\t\t: [1, 1, 2, 2, 3, 4, 5, 6]\n",
            "내림차순 정렬\t\t: [6, 5, 4, 3, 2, 2, 1, 1]\n",
            "원소 뒤집기\t\t: [1, 1, 2, 2, 3, 4, 5, 6]\n",
            "인덱스 2에 3추가\t: [1, 1, 3, 2, 2, 3, 4, 5, 6]\n",
            "값이 3인 데이터 개수\t: 2\n",
            "값이 1인 데이터 삭제\t: [1, 3, 2, 2, 3, 4, 5, 6]\n"
          ]
        }
      ]
    },
    {
      "cell_type": "markdown",
      "metadata": {
        "id": "XJiSU8QArLyb"
      },
      "source": [
        "* insert, append, remove 는 시간복잡도가 O(N) = 무겁다\n",
        "* remove_all : 해당 수 한번에 삭제 후 값  return\n",
        "  * 기본 함수로 제공 안됨.\n",
        "  * remove_set 지정을 해서 그 값만 빼고 리스트를 다시 만들어보자."
      ]
    },
    {
      "cell_type": "code",
      "metadata": {
        "colab": {
          "base_uri": "https://localhost:8080/"
        },
        "id": "NeqcdN-oraRL",
        "outputId": "98371131-c038-4138-ad97-d17cb3b166df"
      },
      "source": [
        "# 모든 3,5를 삭제하고 싶다.\n",
        "a = [1, 4, 3, 5, 4, 2, 3, 6, 5, 5, 1, 2, 6]\n",
        "remove_set = [3, 5]\n",
        "result = [i for i in a if i not in remove_set]\n",
        "print(result)"
      ],
      "execution_count": null,
      "outputs": [
        {
          "output_type": "stream",
          "name": "stdout",
          "text": [
            "[1, 4, 4, 2, 6, 1, 2, 6]\n"
          ]
        }
      ]
    },
    {
      "cell_type": "code",
      "metadata": {
        "colab": {
          "base_uri": "https://localhost:8080/"
        },
        "id": "Ros5nbuVskvy",
        "outputId": "acd33d69-c201-4094-f106-fe037df39a93"
      },
      "source": [
        "a = [1,2,3,4,5,6,7,8,9,1,2,3,4,5,6,7,8,9]\n",
        "remove_set = [1,3,5,7,9]\n",
        "result = [i for i in a if i not in remove_set]\n",
        "print(result)"
      ],
      "execution_count": null,
      "outputs": [
        {
          "output_type": "stream",
          "name": "stdout",
          "text": [
            "[2, 4, 6, 8, 2, 4, 6, 8]\n"
          ]
        }
      ]
    },
    {
      "cell_type": "markdown",
      "metadata": {
        "id": "3f6HGrd6tMSz"
      },
      "source": [
        "# 문자열 연산\n",
        "* 문자열에 양의 정수 n을 곱하면 n번 겹쳐짐"
      ]
    },
    {
      "cell_type": "code",
      "metadata": {
        "colab": {
          "base_uri": "https://localhost:8080/"
        },
        "id": "9V2YpFultD_R",
        "outputId": "beeac426-23fc-4eb9-ad81-02a328b90ee4"
      },
      "source": [
        "a = \"시환\"\n",
        "print(a*3)\n",
        "a *= 4\n",
        "print(a)"
      ],
      "execution_count": null,
      "outputs": [
        {
          "output_type": "stream",
          "name": "stdout",
          "text": [
            "시환시환시환\n",
            "시환시환시환시환\n"
          ]
        }
      ]
    },
    {
      "cell_type": "markdown",
      "metadata": {
        "id": "m-wQ7_OVtkjx"
      },
      "source": [
        "* 문자열도 리스트 처럼 슬라이싱 가능"
      ]
    },
    {
      "cell_type": "code",
      "metadata": {
        "colab": {
          "base_uri": "https://localhost:8080/"
        },
        "id": "FX2JGeYAtnTA",
        "outputId": "0472ba77-e343-446e-a327-65535d637732"
      },
      "source": [
        "print(a[2:4])"
      ],
      "execution_count": null,
      "outputs": [
        {
          "output_type": "stream",
          "name": "stdout",
          "text": [
            "시환\n"
          ]
        }
      ]
    },
    {
      "cell_type": "markdown",
      "metadata": {
        "id": "6NpBuRTYzW2d"
      },
      "source": [
        "# 튜플\n",
        "* (튜플) 은 [리스트]와 유사하다.\n",
        "* 튜플은 값이 변하지 않는다는 차이만 가짐.\n",
        "* 다익스트라 최단 경로 알고리즘에서 (비용, 노드번호)이렇게 사용된다."
      ]
    },
    {
      "cell_type": "markdown",
      "metadata": {
        "id": "6uRU5_xoz1A9"
      },
      "source": [
        "# 사전자료형_딕셔너리\n",
        "* key 와 value 한쌍의 데이터로 가지는 자료형이다.\n",
        "* 리스트 보다 더 빠르다.(리스트가 그냥 느리다)"
      ]
    },
    {
      "cell_type": "code",
      "metadata": {
        "colab": {
          "base_uri": "https://localhost:8080/"
        },
        "id": "Xu0XuuJW0Asl",
        "outputId": "fc4c7058-15d8-4589-e745-84913014c10c"
      },
      "source": [
        "data = dict()\n",
        "data['사과'] = 'Apple'\n",
        "data['바나나'] = 'Banana'\n",
        "\n",
        "print(data)"
      ],
      "execution_count": null,
      "outputs": [
        {
          "output_type": "stream",
          "name": "stdout",
          "text": [
            "{'사과': 'Apple', '바나나': 'Banana'}\n"
          ]
        }
      ]
    },
    {
      "cell_type": "markdown",
      "metadata": {
        "id": "jh5w5tq50bJ9"
      },
      "source": [
        "* 특정 원소를 검사할땐 리스트문 처럼 '원소 in 사전' 으로 사용가능"
      ]
    },
    {
      "cell_type": "code",
      "metadata": {
        "colab": {
          "base_uri": "https://localhost:8080/"
        },
        "id": "b81GPARZ0i1M",
        "outputId": "94091876-91c7-45ce-a5a1-adf565e672f6"
      },
      "source": [
        "if '사과' in data:\n",
        "  print(\"'사과'를 키로 가지고 있는 데이터가 존재합니다.\")"
      ],
      "execution_count": null,
      "outputs": [
        {
          "output_type": "stream",
          "name": "stdout",
          "text": [
            "'사과'를 키로 가지고 있는 데이터가 존재합니다.\n"
          ]
        }
      ]
    },
    {
      "cell_type": "markdown",
      "metadata": {
        "id": "2NuhLMqG09Hb"
      },
      "source": [
        "* keys() : 키값 만 받아와서 리스트로 return\n",
        "* values() : value값 만 받아와서 리스트로 return"
      ]
    },
    {
      "cell_type": "code",
      "metadata": {
        "colab": {
          "base_uri": "https://localhost:8080/"
        },
        "id": "_RPvDeAq1FMy",
        "outputId": "16571cf8-f706-41e2-e875-41338e442102"
      },
      "source": [
        "keyInData = data.keys()\n",
        "valInData = data.values()\n",
        "print(keyInData)\n",
        "print(valInData)"
      ],
      "execution_count": null,
      "outputs": [
        {
          "output_type": "stream",
          "name": "stdout",
          "text": [
            "dict_keys(['사과', '바나나'])\n",
            "dict_values(['Apple', 'Banana'])\n"
          ]
        }
      ]
    },
    {
      "cell_type": "markdown",
      "metadata": {
        "id": "9xDi0jeD4raJ"
      },
      "source": [
        "# 집합자료형 set\n",
        "* set(리스트,문자열)을 관리할 수 있는 자료형\n",
        "* 규칙 : 중복금지, 순서없음\n",
        "* 특정한 데이터가 이미 등장한적있는지 여부를 체크할때 매우 효과적\n"
      ]
    },
    {
      "cell_type": "code",
      "metadata": {
        "colab": {
          "base_uri": "https://localhost:8080/"
        },
        "id": "-l8JPYCs1TEP",
        "outputId": "09eeb475-10e1-453b-f7ec-ee6a25655d99"
      },
      "source": [
        "# 초기화 방법1\n",
        "data = set([1,1,2,2,3,4,5,6,6])\n",
        "print(data)"
      ],
      "execution_count": null,
      "outputs": [
        {
          "output_type": "stream",
          "name": "stdout",
          "text": [
            "{1, 2, 3, 4, 5, 6}\n"
          ]
        }
      ]
    },
    {
      "cell_type": "code",
      "metadata": {
        "colab": {
          "base_uri": "https://localhost:8080/"
        },
        "id": "CCmiqbao5305",
        "outputId": "67b5e21f-323d-420f-b7d2-0f6b5d31c73f"
      },
      "source": [
        "# 초기화 방법2\n",
        "data = {1,1,2,2,3,4,5,6,6}\n",
        "print(data)"
      ],
      "execution_count": null,
      "outputs": [
        {
          "output_type": "stream",
          "name": "stdout",
          "text": [
            "{1, 2, 3, 4, 5, 6}\n"
          ]
        }
      ]
    },
    {
      "cell_type": "markdown",
      "metadata": {
        "id": "nEtoDgDc5-nK"
      },
      "source": [
        "* 합집합(|), 교집합(&), 차집합(-), 연산"
      ]
    },
    {
      "cell_type": "code",
      "metadata": {
        "colab": {
          "base_uri": "https://localhost:8080/"
        },
        "id": "c2AuyyqE6I0w",
        "outputId": "668055fe-71b7-43c7-d7f1-4e542cef46fd"
      },
      "source": [
        "a = set([1,2,3,4,5])\n",
        "b = set([3,4,5,6,7])\n",
        "\n",
        "print(a,b)\n",
        "print(\"합집합 :\", a|b)\n",
        "print(\"교집합 :\", a&b)\n",
        "print(\"차집합 :\", a-b)"
      ],
      "execution_count": null,
      "outputs": [
        {
          "output_type": "stream",
          "name": "stdout",
          "text": [
            "{1, 2, 3, 4, 5} {3, 4, 5, 6, 7}\n",
            "합집합 : {1, 2, 3, 4, 5, 6, 7}\n",
            "교집합 : {3, 4, 5}\n",
            "차집합 : {1, 2}\n"
          ]
        }
      ]
    },
    {
      "cell_type": "markdown",
      "metadata": {
        "id": "Z9BV-waN6Tev"
      },
      "source": [
        "* add() : 원소 하나 추가\n",
        "* update() : 한번에 여러 값 추가\n",
        "* remove() : 특정 값 제거"
      ]
    },
    {
      "cell_type": "code",
      "metadata": {
        "colab": {
          "base_uri": "https://localhost:8080/"
        },
        "id": "7EnmTZ667Vem",
        "outputId": "d2c50ae2-a130-4225-fc47-f679dc0dd871"
      },
      "source": [
        "data = set([1,2,3])\n",
        "print(data)\n",
        "\n",
        "# 새로운 원소 추가\n",
        "data.add(4)\n",
        "print(a)\n",
        "\n",
        "# 새로운 원소 여러 개 추가\n",
        "data.update([5,6])\n",
        "print(data)\n",
        "\n",
        "# 특정 한 값 갖는 원소 삭제\n",
        "data.remove(3)\n",
        "print(data)"
      ],
      "execution_count": null,
      "outputs": [
        {
          "output_type": "stream",
          "name": "stdout",
          "text": [
            "{1, 2, 3}\n",
            "{1, 2, 3, 4, 5}\n",
            "{1, 2, 3, 4, 5, 6}\n",
            "{1, 2, 4, 5, 6}\n"
          ]
        }
      ]
    },
    {
      "cell_type": "markdown",
      "metadata": {
        "id": "LYkBp1vZ7YA3"
      },
      "source": [
        "# 조건문\n",
        "* 기타연산자 ( in, not in )\n",
        "  * 리스트, 튜플, 문자열, 사전 에서 사용"
      ]
    },
    {
      "cell_type": "code",
      "metadata": {
        "colab": {
          "base_uri": "https://localhost:8080/"
        },
        "id": "9iwWey_s7xTX",
        "outputId": "b884d6cd-b031-4f53-9506-b0d92752def4"
      },
      "source": [
        "a = [1,2,3,4,5,6,7]\n",
        "remove_set = [1,5,7]\n",
        "\n",
        "result = [i for i in a if i not in remove_set]\n",
        "print(result)"
      ],
      "execution_count": null,
      "outputs": [
        {
          "output_type": "stream",
          "name": "stdout",
          "text": [
            "[2, 3, 4, 6]\n"
          ]
        }
      ]
    },
    {
      "cell_type": "markdown",
      "metadata": {
        "id": "95YQGvrV9O5t"
      },
      "source": [
        "* if else 문을 한줄로 요앿해서 사용가능\n",
        "  * 'return값' 'if문' 'elif문' 'else 문'"
      ]
    },
    {
      "cell_type": "code",
      "metadata": {
        "colab": {
          "base_uri": "https://localhost:8080/"
        },
        "id": "wW6k2nhU9B4W",
        "outputId": "a59496a6-2cd7-48f8-b55c-3ed5bc6f1558"
      },
      "source": [
        "# if ~ else 문을 한줄로 요약해서 사용가능\n",
        "score = 85\n",
        "result = \"Success\" if score >= 75 else \"Fail\"\n",
        "print(result)"
      ],
      "execution_count": null,
      "outputs": [
        {
          "output_type": "stream",
          "name": "stdout",
          "text": [
            "Success\n"
          ]
        }
      ]
    },
    {
      "cell_type": "markdown",
      "metadata": {
        "id": "PmnUODGd_FEk"
      },
      "source": [
        "# 입출력\n",
        "* 입력은 input() \n",
        "  * 문자열로 받기 때문에 타입캐스팅 필요\n",
        "* 여러 값을 받을 땐\n",
        "  *  list(map(int,input().split())) 사용하기\n",
        "    * input 을 받으면, split으로 공백에 맞게 나누고, map을 이용하여 int형으로 변수가 적용되어 list에 적용된다.\n",
        "  * int(input()) 은 줄바꿈 용도이다."
      ]
    },
    {
      "cell_type": "code",
      "metadata": {
        "colab": {
          "base_uri": "https://localhost:8080/"
        },
        "id": "OM4jegGAAUpz",
        "outputId": "90d6aec6-ab7f-4548-9b7f-92293d77e062"
      },
      "source": [
        "# 데이터 개수 입력\n",
        "n = int(input())\n",
        "# 각 데이터를 공백으로 구분하여 입력\n",
        "## map(적용시킬함수, 적용시킬 값) : 값에 하나 하나 함수를 적용시켜 map 변수로 줌\n",
        "### list() 로 리스트화 시켰음\n",
        "data = list(map(int,input().split()))\n",
        "\n",
        "data.sort(reverse = True)\n",
        "print(data)"
      ],
      "execution_count": null,
      "outputs": [
        {
          "output_type": "stream",
          "name": "stdout",
          "text": [
            "1\n",
            "1 2 3 4 5\n",
            "[5, 4, 3, 2, 1]\n"
          ]
        }
      ]
    },
    {
      "cell_type": "markdown",
      "metadata": {
        "id": "frE1EjTrDdjp"
      },
      "source": [
        "* input 은 너무 느리다.\n",
        "* sys.stdin.readline() 함수를 사용해보자\n",
        "  * 필요에 따라 사이드 공백을 제거해야한다.\n",
        "    * strip([char]) : 인자로 전달된 문자를 String 왼쪽과 오른쪽에서 제거\n",
        "    * lstrip([char]) : 인자로 전달된 문자를 String 왼쪽에서 제거\n",
        "    * rstrip([char]) : 인자로 전달된 문자를 String의 오른쪽에서 제거\n",
        "  * 마지막줄 enter 를 삭제해야하기 때문에, rstrip()을 꼭 써야한다. \n",
        "  * readline()은 colab에서 사용이 안되넹..\n"
      ]
    },
    {
      "cell_type": "code",
      "metadata": {
        "colab": {
          "base_uri": "https://localhost:8080/"
        },
        "id": "-jOh20yuAa73",
        "outputId": "1091c96f-9a3c-463e-c75d-ff4ee2d8aa7e"
      },
      "source": [
        "import sys\n",
        "data = sys.stdin.readline().rstrip()\n",
        "print(data)"
      ],
      "execution_count": null,
      "outputs": [
        {
          "output_type": "stream",
          "name": "stdout",
          "text": [
            "\n"
          ]
        }
      ]
    },
    {
      "cell_type": "code",
      "metadata": {
        "id": "EWNQqoY8njBo"
      },
      "source": [
        "data = list(map(int,sys.stdin.readline().rstrip().split()))\n",
        "data.sort(reverse=True)\n",
        "\n",
        "print(data)"
      ],
      "execution_count": null,
      "outputs": []
    },
    {
      "cell_type": "markdown",
      "metadata": {
        "id": "H2EBiIQ8Fb72"
      },
      "source": [
        "* 출력은 print() 사용\n",
        "  * 콤마(,)를 통해 값들이 구분지어지는데 이때 띄어쓰기로 구분되어 출력된다.\n",
        "  * python3.6  이상부너 f-string문법 추가\n",
        "    * value = 123\n",
        "     // print(f\"궁시렁 {value} 궁시렁\")\n",
        "    // 출력 > 궁시렁 123 궁시렁 "
      ]
    },
    {
      "cell_type": "code",
      "metadata": {
        "colab": {
          "base_uri": "https://localhost:8080/"
        },
        "id": "0CCsGimVG1mF",
        "outputId": "70d3a105-f152-4eed-edc0-12cdd0f1d4ba"
      },
      "source": [
        "value = 123\n",
        "print(f\"궁시렁 {value} 궁시렁\")"
      ],
      "execution_count": null,
      "outputs": [
        {
          "output_type": "stream",
          "name": "stdout",
          "text": [
            "궁시렁 123 궁시렁\n"
          ]
        }
      ]
    },
    {
      "cell_type": "markdown",
      "metadata": {
        "id": "YTekri6wHFJ9"
      },
      "source": [
        "# 주요 라이브러리의 문법과 유의점\n",
        "* 반드시 알아야 하는 라이브러리는 6종\n",
        "  * 내장함수\n",
        "  * itertools : 반복되는 형태의 데이터를 어리하는 기능 제공\n",
        "  * heapq : 힙(Heap) 기능을 제공하는 라이브러리. 우선순위 큐 기능을 구현하기 위해 사용\n",
        "  * bisect : 이진탐색(Binary Search) 기능을 제공하는 라이브러리\n",
        "  * collections : 덱(deque), 카운터(Counter) 등 유용한 자료구조를 포함하고 있는 라이브러리\n",
        "  * math : 수학적 기능을 제공. 펙토리얼, 제곱근, 최대공약수(GCD), 삼각함수 관련 함수부터 파이(pi)와 같은 상수를 포함하고 있다."
      ]
    },
    {
      "cell_type": "markdown",
      "metadata": {
        "id": "qAvDovS9KDBL"
      },
      "source": [
        "## 내장함수"
      ]
    },
    {
      "cell_type": "code",
      "metadata": {
        "colab": {
          "base_uri": "https://localhost:8080/"
        },
        "id": "F5dA2o72KCrs",
        "outputId": "976b1106-847f-41df-e729-77f2ed824fc9"
      },
      "source": [
        "# sum()\n",
        "result = sum([1,2,3,4,5])\n",
        "print(result)"
      ],
      "execution_count": null,
      "outputs": [
        {
          "output_type": "stream",
          "name": "stdout",
          "text": [
            "15\n"
          ]
        }
      ]
    },
    {
      "cell_type": "code",
      "metadata": {
        "colab": {
          "base_uri": "https://localhost:8080/"
        },
        "id": "v2mtQWxBHEwP",
        "outputId": "e241be74-ca31-40fa-eb6b-cfef82084089"
      },
      "source": [
        "# min()\n",
        "result = min([1,2,3,4,5])\n",
        "print(result)"
      ],
      "execution_count": null,
      "outputs": [
        {
          "output_type": "stream",
          "name": "stdout",
          "text": [
            "1\n"
          ]
        }
      ]
    },
    {
      "cell_type": "code",
      "metadata": {
        "colab": {
          "base_uri": "https://localhost:8080/"
        },
        "id": "FEPO9Y2vKT3K",
        "outputId": "da5d8eec-d078-49f2-90b6-35f64214100e"
      },
      "source": [
        "# max()\n",
        "result = max([1,2,3,4,5])\n",
        "print(result)"
      ],
      "execution_count": null,
      "outputs": [
        {
          "output_type": "stream",
          "name": "stdout",
          "text": [
            "5\n"
          ]
        }
      ]
    },
    {
      "cell_type": "code",
      "metadata": {
        "colab": {
          "base_uri": "https://localhost:8080/"
        },
        "id": "PjjDRrRCKXor",
        "outputId": "e10dd074-0378-4170-ced9-522442749be3"
      },
      "source": [
        "# eval() : 그 함수를 실행한다, ㄹㅇ 함수이름(메소드)하면 바로실행\n",
        "# 여기에서는 문자열로 들어온 수학계산할때 사용\n",
        "result = eval(\"(3+5)*7\")\n",
        "print(result)"
      ],
      "execution_count": null,
      "outputs": [
        {
          "output_type": "stream",
          "name": "stdout",
          "text": [
            "56\n"
          ]
        }
      ]
    },
    {
      "cell_type": "code",
      "metadata": {
        "colab": {
          "base_uri": "https://localhost:8080/"
        },
        "id": "92GrthQ4Kv7j",
        "outputId": "77da05f2-1234-4097-8bfd-382f45dce218"
      },
      "source": [
        "# sorted() : iterable 객체가 들어왔을때 정렬된 결과를 반환\n",
        "result = sorted([1,2,3,4,5])\n",
        "print(result)\n",
        "result = sorted([1,2,3,4,5], reverse = True)\n",
        "print(result)"
      ],
      "execution_count": null,
      "outputs": [
        {
          "output_type": "stream",
          "name": "stdout",
          "text": [
            "[1, 2, 3, 4, 5]\n",
            "[5, 4, 3, 2, 1]\n"
          ]
        }
      ]
    },
    {
      "cell_type": "code",
      "metadata": {
        "colab": {
          "base_uri": "https://localhost:8080/"
        },
        "id": "DIMFGCLSLHmy",
        "outputId": "35e01161-eef5-40ff-9087-9d20d84dd569"
      },
      "source": [
        "# key값을 이용해 정렬 할 수도 있음\n",
        "result = sorted([('홍길동', 35),('이순신', 75), ('박시환', 25)], key = lambda x:x[1])\n",
        "print(result)\n",
        "result = sorted([('홍길동', 35),('이순신', 75), ('박시환', 25)], key = lambda x:x[0], reverse = True)\n",
        "print(result)"
      ],
      "execution_count": null,
      "outputs": [
        {
          "output_type": "stream",
          "name": "stdout",
          "text": [
            "[('박시환', 25), ('홍길동', 35), ('이순신', 75)]\n",
            "[('홍길동', 35), ('이순신', 75), ('박시환', 25)]\n"
          ]
        }
      ]
    },
    {
      "cell_type": "markdown",
      "metadata": {
        "id": "RUeNk7eeLxOI"
      },
      "source": [
        "## itertools\n",
        "* 반복데이터 처리기능 라이브러리\n",
        "* permutations : 리스트같은 iterable 객체에서 r개의 데이터를 뽑아 일렬로 나열하는 모든 경우(순열)을 계산해준다.\n",
        "  * permutations 는 클래스이기 때문에 초기화 이후에는 리스트 자료형으로 변환하여 사용\n",
        "450p 책갈피"
      ]
    },
    {
      "cell_type": "code",
      "metadata": {
        "colab": {
          "base_uri": "https://localhost:8080/"
        },
        "id": "TpRTdDH3Lv97",
        "outputId": "89a10ac7-7ee7-44f8-bbaa-ebad3a969c21"
      },
      "source": [
        "from itertools import permutations\n",
        "data = ['A','B','C']\n",
        "# 리스트 데이터 중에서 3개를 뽑아 나열하는 모든경우 출력\n",
        "result = list(permutations(data,3))\n",
        "\n",
        "print(result)"
      ],
      "execution_count": null,
      "outputs": [
        {
          "output_type": "stream",
          "name": "stdout",
          "text": [
            "[('A', 'B', 'C'), ('A', 'C', 'B'), ('B', 'A', 'C'), ('B', 'C', 'A'), ('C', 'A', 'B'), ('C', 'B', 'A')]\n"
          ]
        }
      ]
    },
    {
      "cell_type": "markdown",
      "metadata": {
        "id": "VW4go21boYK_"
      },
      "source": [
        "* combinations는 순서고나계업시 나열하는 모든 경우(조합)"
      ]
    },
    {
      "cell_type": "code",
      "metadata": {
        "colab": {
          "base_uri": "https://localhost:8080/"
        },
        "id": "pROgb7iSowTx",
        "outputId": "7e438b80-f8db-4435-f6d1-4ada3b48fb99"
      },
      "source": [
        "from itertools import combinations\n",
        "\n",
        "data = ['A','B','C']\n",
        "result = list(combinations(data,2))\n",
        "\n",
        "print(result)"
      ],
      "execution_count": null,
      "outputs": [
        {
          "output_type": "stream",
          "name": "stdout",
          "text": [
            "[('A', 'B'), ('A', 'C'), ('B', 'C')]\n"
          ]
        }
      ]
    },
    {
      "cell_type": "markdown",
      "metadata": {
        "id": "HDZRWAGTpB0m"
      },
      "source": [
        "* product는 permutations와 같이 리스트와 같은 원소들을 중복된 값을 포함하여 나열하는 것 (순열)"
      ]
    },
    {
      "cell_type": "code",
      "metadata": {
        "colab": {
          "base_uri": "https://localhost:8080/"
        },
        "id": "mUBm5ylkpjhO",
        "outputId": "5b0876a9-0a55-4d53-957b-6e2f712fc7f2"
      },
      "source": [
        "from itertools import product\n",
        "\n",
        "data = ['A','B','C']\n",
        "result = list(product(data,repeat=2))\n",
        "\n",
        "print(result)"
      ],
      "execution_count": null,
      "outputs": [
        {
          "output_type": "stream",
          "name": "stdout",
          "text": [
            "[('A', 'A'), ('A', 'B'), ('A', 'C'), ('B', 'A'), ('B', 'B'), ('B', 'C'), ('C', 'A'), ('C', 'B'), ('C', 'C')]\n"
          ]
        }
      ]
    },
    {
      "cell_type": "markdown",
      "metadata": {
        "id": "ZK5g2_r3pzH_"
      },
      "source": [
        "* combinations_with_replacement 는 combinations(조합)하는데 중복이 되게 조합한다."
      ]
    },
    {
      "cell_type": "code",
      "metadata": {
        "id": "J3rN0swrqOLC"
      },
      "source": [
        "from itertools import combinations_with_replacement\n",
        "\n",
        "data = ['A','B','C']\n",
        "result = list(combinations_with_replacement(data, 2))\n",
        "\n",
        "print(result)"
      ],
      "execution_count": null,
      "outputs": []
    },
    {
      "cell_type": "markdown",
      "metadata": {
        "id": "cEbvuFrEqefH"
      },
      "source": [
        "## heapq\n",
        "* 힙이 가능한 라이브러리\n",
        "* 우선순위 큐기능 구현 시 사용\n",
        "* 파이썬에선 힙에 단순히 값을 넣었다 빼는것만으로도 오름차순 정렬이 완료됨\n",
        "  * 데이터의 최소값부터 가져오기 때문에\n",
        "  * heapq.heappush : 힙 삽입\n",
        "  * heapq.heappop : 힙 제거"
      ]
    },
    {
      "cell_type": "code",
      "metadata": {
        "colab": {
          "base_uri": "https://localhost:8080/"
        },
        "id": "6QQ1ax4brh7y",
        "outputId": "40c90652-81df-4cbf-8301-71c15fd5b2cf"
      },
      "source": [
        "import heapq\n",
        "\n",
        "def headsort(iterable):\n",
        "  h = []\n",
        "  result = []\n",
        "  # 모든 원소를 차례대로 힙에 삽인\n",
        "  for value in iterable:\n",
        "    heapq.heappush(h, value)\n",
        "  # 힙에 삽입된 모든 원소를 차례대로 꺼내어 담기\n",
        "  for i in range(len(h)):\n",
        "    result.append(heapq.heappop(h))\n",
        "  return result\n",
        "\n",
        "result = headsort([1,4,5,6,7,8,2,3,4,5,0])\n",
        "print(result)\n",
        "  \n"
      ],
      "execution_count": null,
      "outputs": [
        {
          "output_type": "stream",
          "name": "stdout",
          "text": [
            "[0, 1, 2, 3, 4, 4, 5, 5, 6, 7, 8]\n"
          ]
        }
      ]
    },
    {
      "cell_type": "markdown",
      "metadata": {
        "id": "IGArwm8ptKhY"
      },
      "source": [
        "* python에선 최대힙을 제공하지 않는다.\n",
        "* 원소의 부호를 바꿈으로써 내림차순으로 정렬 가능하다."
      ]
    },
    {
      "cell_type": "code",
      "metadata": {
        "colab": {
          "base_uri": "https://localhost:8080/"
        },
        "id": "lBJqJ8TOtKTA",
        "outputId": "6f05a9db-c299-40b2-bcad-913ee29bd1b3"
      },
      "source": [
        "import heapq\n",
        "\n",
        "def headsort(iterable):\n",
        "  h = []\n",
        "  result = []\n",
        "  for value in iterable:\n",
        "    heapq.heappush(h, -value)\n",
        "  for i in range(len(h)):\n",
        "    result.append(-heapq.heappop(h))\n",
        "  return result\n",
        "\n",
        "result = headsort([1,4,5,6,7,8,2,3,4,5,0])\n",
        "print(result)"
      ],
      "execution_count": null,
      "outputs": [
        {
          "output_type": "stream",
          "name": "stdout",
          "text": [
            "[8, 7, 6, 5, 5, 4, 4, 3, 2, 1, 0]\n"
          ]
        }
      ]
    },
    {
      "cell_type": "markdown",
      "metadata": {
        "id": "ZkY-1siM2Y0Y"
      },
      "source": [
        "## bisect\n",
        "* 이진탐색을 쉽게 구현할 수 있도록 해주는 라이브러리\n",
        "* '정렬된 배열'에서 특정한 원소를 찾아야 할때 매우 효과적\n",
        "* bisect_left(a,x) : 정렬된 순서를 유지하면서 리스브트 a에 삽입할 데이터 x를 삽입할 가장 왼쪽 인덱스를 찾는 메서드\n",
        "* bisect_right(a,x) : 정렬된 순서를 유지하면서 리스브트 a에 삽입할 데이터 x를 삽입할 가장 오른쪽 인덱스를 찾는 메서드"
      ]
    },
    {
      "cell_type": "code",
      "metadata": {
        "colab": {
          "base_uri": "https://localhost:8080/"
        },
        "id": "M7rei1pm3El5",
        "outputId": "3053ddfb-904e-451e-aad7-d3635dd80602"
      },
      "source": [
        "from bisect import bisect_left, bisect_right\n",
        "\n",
        "a = [1,2,4,4,8]\n",
        "x = 4\n",
        "\n",
        "print(bisect_left(a,x))\n",
        "print(bisect_right(a,x))"
      ],
      "execution_count": null,
      "outputs": [
        {
          "output_type": "stream",
          "name": "stdout",
          "text": [
            "2\n",
            "4\n"
          ]
        }
      ]
    },
    {
      "cell_type": "markdown",
      "metadata": {
        "id": "Zay6lyEI6kkK"
      },
      "source": [
        "* 정렬된 리스트에서 값이 특정 범위에 속하는 원소의 개수를 구하고자 할때 효과적이다.\n",
        "* count_by_range(a,left_value,right_value)"
      ]
    },
    {
      "cell_type": "code",
      "metadata": {
        "colab": {
          "base_uri": "https://localhost:8080/"
        },
        "id": "GNMTn6s96zAC",
        "outputId": "002a443e-8f8f-4554-8e17-3a6d99751125"
      },
      "source": [
        "from bisect import bisect_left, bisect_right\n",
        "\n",
        "#  값이 [left_value, rifht_value]인 데이터의 개수를 바환하는 함수\n",
        "def count_by_range(a, left_value, right_value):\n",
        "  right_index = bisect_right(a, right_value)\n",
        "  left_index = bisect_left(a, left_value)\n",
        "  return right_index - left_index\n",
        "\n",
        "a = [1,2,3,4,5,5,5,5,5,6,7,8,8,9]\n",
        "\n",
        "print(count_by_range(a,5,5))\n",
        "print(count_by_range(a,-1,8))\n"
      ],
      "execution_count": null,
      "outputs": [
        {
          "output_type": "stream",
          "name": "stdout",
          "text": [
            "5\n",
            "13\n"
          ]
        }
      ]
    },
    {
      "cell_type": "markdown",
      "metadata": {
        "id": "w3fgXyKZ7zJZ"
      },
      "source": [
        "## collections\n",
        "* deque\n",
        "  * 더블큐\n",
        "  * 가장 앞원소, 가장 뒤 원소 관련한것 중에 가장 효율적 "
      ]
    },
    {
      "cell_type": "code",
      "metadata": {
        "colab": {
          "base_uri": "https://localhost:8080/"
        },
        "id": "gcfXZsLt9AAx",
        "outputId": "0789560f-ea8a-4070-dce6-9789e6851868"
      },
      "source": [
        "from collections import deque\n",
        "data = deque([2,3,4])\n",
        "data.appendleft(1) # 첫번째 원소에 추가\n",
        "data.append(5) # 마지막 원소에 추가\n",
        "\n",
        "print(data)\n",
        "print(list(data)) # 자료형 리스트 변환\n",
        "\n",
        "data.popleft() # 첫번째 원소 제가\n",
        "data.pop() # 마지막 원소 제거\n",
        "\n",
        "print(data)\n",
        "print(list(data)) # 자료형 리스트 변환"
      ],
      "execution_count": null,
      "outputs": [
        {
          "output_type": "stream",
          "name": "stdout",
          "text": [
            "deque([1, 2, 3, 4, 5])\n",
            "[1, 2, 3, 4, 5]\n",
            "deque([2, 3, 4])\n",
            "[2, 3, 4]\n"
          ]
        }
      ]
    },
    {
      "cell_type": "markdown",
      "metadata": {
        "id": "6LqCptGr-ExS"
      },
      "source": [
        "* Counter 는 등장횟수를 세는 기능을 제공한다.\n",
        "* iterable 객체가 주어졌을 때, 해당 객체 내부의 원소가 몇번씩 등장했는지 알려준다.\n"
      ]
    },
    {
      "cell_type": "code",
      "metadata": {
        "colab": {
          "base_uri": "https://localhost:8080/"
        },
        "id": "KsLUK1Wp-WVK",
        "outputId": "72bd667a-a6a5-46ef-e1ce-b368d0095f08"
      },
      "source": [
        "from collections import Counter\n",
        "\n",
        "counter = Counter(['red','blue', 'red', 'green','blue'])\n",
        "\n",
        "print(counter['blue'])\n",
        "print(counter['green'])\n",
        "print(dict(counter))"
      ],
      "execution_count": null,
      "outputs": [
        {
          "output_type": "stream",
          "name": "stdout",
          "text": [
            "2\n",
            "1\n",
            "{'red': 2, 'blue': 2, 'green': 1}\n"
          ]
        }
      ]
    },
    {
      "cell_type": "markdown",
      "metadata": {
        "id": "LRYCgvU4-upy"
      },
      "source": [
        "## math\n",
        "* 팩토리얼, 제곱근, 최대공약수(GCD) 등 제공\n"
      ]
    },
    {
      "cell_type": "code",
      "metadata": {
        "colab": {
          "base_uri": "https://localhost:8080/"
        },
        "id": "g8A8MjNb_KhC",
        "outputId": "9f9af024-db39-4f16-f5f5-5055c3bfd334"
      },
      "source": [
        "import math\n",
        "\n",
        "# 5! : 5팩토리얼\n",
        "\n",
        "print(math.factorial(5))"
      ],
      "execution_count": null,
      "outputs": [
        {
          "output_type": "stream",
          "name": "stdout",
          "text": [
            "120\n"
          ]
        }
      ]
    },
    {
      "cell_type": "code",
      "metadata": {
        "colab": {
          "base_uri": "https://localhost:8080/"
        },
        "id": "PLFBjkuN_TA6",
        "outputId": "3973158c-f50d-4ac7-8ac1-23e6ae5cd5a1"
      },
      "source": [
        "import math\n",
        "\n",
        "# 루트 7. 7 제곱근\n",
        "\n",
        "print(math.sqrt(7))"
      ],
      "execution_count": null,
      "outputs": [
        {
          "output_type": "stream",
          "name": "stdout",
          "text": [
            "2.6457513110645907\n"
          ]
        }
      ]
    },
    {
      "cell_type": "code",
      "metadata": {
        "colab": {
          "base_uri": "https://localhost:8080/"
        },
        "id": "zpeuP14L_f0a",
        "outputId": "6d3ed144-2d44-409e-869b-9aa6e78665b9"
      },
      "source": [
        "import math\n",
        "\n",
        "# 최대공약수(GCD)\n",
        "\n",
        "print(math.gcd(21,14))"
      ],
      "execution_count": null,
      "outputs": [
        {
          "output_type": "stream",
          "name": "stdout",
          "text": [
            "7\n"
          ]
        }
      ]
    },
    {
      "cell_type": "code",
      "metadata": {
        "colab": {
          "base_uri": "https://localhost:8080/"
        },
        "id": "Y4oWFXHE_rdZ",
        "outputId": "e5ba7fd4-d2bb-41e3-dba2-9c0740d83b94"
      },
      "source": [
        "import math\n",
        "\n",
        "#  파이, 자연상수e\n",
        "\n",
        "print(math.pi)\n",
        "print(math.e)"
      ],
      "execution_count": null,
      "outputs": [
        {
          "output_type": "stream",
          "name": "stdout",
          "text": [
            "3.141592653589793\n",
            "2.718281828459045\n"
          ]
        }
      ]
    }
  ]
}